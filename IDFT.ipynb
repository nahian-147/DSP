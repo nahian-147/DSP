{
 "cells": [
  {
   "cell_type": "code",
   "execution_count": 12,
   "id": "80bbae14-768d-42ed-886e-81340a638657",
   "metadata": {},
   "outputs": [],
   "source": [
    "import numpy as np\n",
    "import matplotlib.pyplot as plt\n",
    "from scipy.fft import fft, fftfreq, ifft"
   ]
  },
  {
   "cell_type": "code",
   "execution_count": 20,
   "id": "eb825912-9dac-4e34-9d18-07874b85fbbf",
   "metadata": {},
   "outputs": [],
   "source": [
    "def idft(Signal):\n",
    "    N = len(Signal)\n",
    "    X = []\n",
    "    for k in range(N):\n",
    "        sumc = 0\n",
    "        for n in range(N):\n",
    "            ang = 2*np.pi*k*n/N\n",
    "            sumc += Signal[n]*(np.cos(ang) + 1j*np.sin(ang))/N\n",
    "        X.append(sumc)\n",
    "    return X"
   ]
  },
  {
   "cell_type": "code",
   "execution_count": 29,
   "id": "6787c366-f926-4139-857e-154aee14c7e0",
   "metadata": {},
   "outputs": [
    {
     "data": {
      "text/plain": [
       "[0j,\n",
       " (1-9.184850993605148e-17j),\n",
       " (-3.633735870479366e-17+5.551115123125783e-17j),\n",
       " 9.18485099360515e-17j]"
      ]
     },
     "execution_count": 29,
     "metadata": {},
     "output_type": "execute_result"
    }
   ],
   "source": [
    "idft([ 1,  -1j,\n",
    "      -1,   1j])"
   ]
  },
  {
   "cell_type": "code",
   "execution_count": 26,
   "id": "3d8a8e8f-53a1-4a51-8eff-fcd240e913f3",
   "metadata": {},
   "outputs": [
    {
     "data": {
      "text/plain": [
       "array([0.00000000e+00, 1.00000000e+00, 6.63467524e-17, 9.18485099e-17])"
      ]
     },
     "execution_count": 26,
     "metadata": {},
     "output_type": "execute_result"
    }
   ],
   "source": [
    "np.abs(idft([ 1,  -1j,\n",
    "             -1, 1j]))"
   ]
  },
  {
   "cell_type": "code",
   "execution_count": 27,
   "id": "5791540b-5b68-4c60-b994-149ae336021a",
   "metadata": {},
   "outputs": [
    {
     "data": {
      "text/plain": [
       "array([0.+0.j, 1.+0.j, 0.+0.j, 0.+0.j])"
      ]
     },
     "execution_count": 27,
     "metadata": {},
     "output_type": "execute_result"
    }
   ],
   "source": [
    "ifft([ 1,  -1j,\n",
    "      -1,   1j])"
   ]
  },
  {
   "cell_type": "code",
   "execution_count": 28,
   "id": "a01b8609-a864-4c4c-8771-a4b1672c77bf",
   "metadata": {},
   "outputs": [
    {
     "data": {
      "text/plain": [
       "array([0., 1., 0., 0.])"
      ]
     },
     "execution_count": 28,
     "metadata": {},
     "output_type": "execute_result"
    }
   ],
   "source": [
    "np.abs(ifft([ 1,  -1j,\n",
    "      -1, 1j]))"
   ]
  },
  {
   "cell_type": "code",
   "execution_count": null,
   "id": "21b267f3-6512-4139-b6b6-ba872cf15c21",
   "metadata": {},
   "outputs": [],
   "source": []
  }
 ],
 "metadata": {
  "kernelspec": {
   "display_name": "Python 3",
   "language": "python",
   "name": "python3"
  },
  "language_info": {
   "codemirror_mode": {
    "name": "ipython",
    "version": 3
   },
   "file_extension": ".py",
   "mimetype": "text/x-python",
   "name": "python",
   "nbconvert_exporter": "python",
   "pygments_lexer": "ipython3",
   "version": "3.8.5"
  }
 },
 "nbformat": 4,
 "nbformat_minor": 5
}
