{
 "cells": [
  {
   "cell_type": "code",
   "execution_count": 1,
   "id": "0119cddb-416a-4125-8b6e-bde2132abe2f",
   "metadata": {},
   "outputs": [],
   "source": [
    "from scipy import signal as sig\n",
    "import numpy as np"
   ]
  },
  {
   "cell_type": "code",
   "execution_count": 2,
   "id": "3483e7ef-87d5-4ed4-9dd1-08d9c6a4b12d",
   "metadata": {},
   "outputs": [],
   "source": [
    "x = [1, 1, 1, 1, 1, 1.5, 1, 1, 1]\n",
    "y = [1, 1, 0, 0, 0, 0.9, 1, 1, 1]"
   ]
  },
  {
   "cell_type": "code",
   "execution_count": 3,
   "id": "9cbc4d94-9d66-4fed-b280-f2c385a35666",
   "metadata": {},
   "outputs": [],
   "source": [
    "conv = []\n",
    "\n",
    "for l in range(-2 * max(len(x), len(y)), 2 * max(len(x), len(y))):\n",
    "    sigma = 0\n",
    "    for n in range(len(x)):\n",
    "        if -n + l < len(y) and -n + l >= 0:\n",
    "            sigma += x[n] * y[-n + l]\n",
    "        else:\n",
    "            sigma += 0\n",
    "    conv.append(sigma)"
   ]
  },
  {
   "cell_type": "code",
   "execution_count": 4,
   "id": "976cf2a4-bf13-42ed-8a8f-d458aa763f00",
   "metadata": {},
   "outputs": [],
   "source": [
    "conv_xy = []\n",
    "\n",
    "for item in conv:\n",
    "    if not item == 0:\n",
    "        conv_xy.append(item)\n",
    "\n",
    "conv_xy = np.array(conv_xy)"
   ]
  },
  {
   "cell_type": "code",
   "execution_count": 5,
   "id": "5266969e-017b-479a-b114-70c6665cf269",
   "metadata": {},
   "outputs": [
    {
     "data": {
      "text/plain": [
       "array([1.  , 2.  , 2.  , 2.  , 2.  , 3.4 , 4.4 , 4.9 , 5.9 , 4.9 , 4.35,\n",
       "       4.4 , 4.4 , 4.4 , 3.  , 2.  , 1.  ])"
      ]
     },
     "execution_count": 5,
     "metadata": {},
     "output_type": "execute_result"
    }
   ],
   "source": [
    "conv_xy"
   ]
  },
  {
   "cell_type": "code",
   "execution_count": 6,
   "id": "e0639180-f406-4d85-8791-4a5412b8dda4",
   "metadata": {},
   "outputs": [],
   "source": [
    "def convolve(x,y):\n",
    "    conv = []\n",
    "\n",
    "    for l in range(-2 * max(len(x), len(y)), 2 * max(len(x), len(y))):\n",
    "        sigma = 0\n",
    "        for n in range(len(x)):\n",
    "            if -n + l < len(y) and -n + l >= 0:\n",
    "                sigma += x[n] * y[-n + l]\n",
    "            else:\n",
    "                sigma += 0\n",
    "        conv.append(sigma)\n",
    "    \n",
    "    conv_xy = []\n",
    "\n",
    "    for item in conv:\n",
    "        if not item == 0:\n",
    "            conv_xy.append(item)\n",
    "\n",
    "    return np.array(conv_xy)"
   ]
  },
  {
   "cell_type": "code",
   "execution_count": 7,
   "id": "d5a7a379-f15b-4484-a3fd-d16034de98ca",
   "metadata": {},
   "outputs": [
    {
     "data": {
      "text/plain": [
       "array([1.  , 2.  , 2.  , 2.  , 2.  , 3.4 , 4.4 , 4.9 , 5.9 , 4.9 , 4.35,\n",
       "       4.4 , 4.4 , 4.4 , 3.  , 2.  , 1.  ])"
      ]
     },
     "execution_count": 7,
     "metadata": {},
     "output_type": "execute_result"
    }
   ],
   "source": [
    "convolve(x,y)"
   ]
  },
  {
   "cell_type": "code",
   "execution_count": 8,
   "id": "052cb938-d2db-42d9-b7f9-77d0ee5dcc09",
   "metadata": {},
   "outputs": [
    {
     "data": {
      "text/plain": [
       "array([1.  , 2.  , 2.  , 2.  , 2.  , 3.4 , 4.4 , 4.9 , 5.9 , 4.9 , 4.35,\n",
       "       4.4 , 4.4 , 4.4 , 3.  , 2.  , 1.  ])"
      ]
     },
     "execution_count": 8,
     "metadata": {},
     "output_type": "execute_result"
    }
   ],
   "source": [
    "sig.convolve(x, y)"
   ]
  },
  {
   "cell_type": "code",
   "execution_count": null,
   "id": "661e2eb2-8f87-47fd-a1dc-60d52ab11f78",
   "metadata": {},
   "outputs": [],
   "source": []
  }
 ],
 "metadata": {
  "kernelspec": {
   "display_name": "Python 3",
   "language": "python",
   "name": "python3"
  },
  "language_info": {
   "codemirror_mode": {
    "name": "ipython",
    "version": 3
   },
   "file_extension": ".py",
   "mimetype": "text/x-python",
   "name": "python",
   "nbconvert_exporter": "python",
   "pygments_lexer": "ipython3",
   "version": "3.8.5"
  }
 },
 "nbformat": 4,
 "nbformat_minor": 5
}
