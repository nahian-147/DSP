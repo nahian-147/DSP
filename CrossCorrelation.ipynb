{
 "cells": [
  {
   "cell_type": "code",
   "execution_count": 1,
   "id": "dc2101ca-dc80-4155-934c-9dcba03d65c4",
   "metadata": {},
   "outputs": [],
   "source": [
    "from scipy import signal as sig\n",
    "import numpy as np "
   ]
  },
  {
   "cell_type": "code",
   "execution_count": 2,
   "id": "7ba6a5b8-38b0-49d9-9cd1-4d8756a2839c",
   "metadata": {},
   "outputs": [],
   "source": [
    "x = [1, 1, 2, 3]\n",
    "y = [1, 1, 5, 6]"
   ]
  },
  {
   "cell_type": "code",
   "execution_count": 3,
   "id": "ffc1312e-4b81-4a29-88cd-364d39462758",
   "metadata": {},
   "outputs": [],
   "source": [
    "cor = []\n",
    "\n",
    "for l in range(-max(len(x), len(y)), max(len(x), len(y))):\n",
    "    sigma = 0\n",
    "    for n in range(len(x)):\n",
    "        if n - l < len(y) and n - l >= 0:\n",
    "            sigma += x[n] * y[n - l]\n",
    "        else:\n",
    "            sigma += 0\n",
    "    cor.append(sigma)"
   ]
  },
  {
   "cell_type": "code",
   "execution_count": 4,
   "id": "f6a012c4-e052-415e-bc59-a26599e25ec3",
   "metadata": {},
   "outputs": [],
   "source": [
    "cor_xy = []\n",
    "\n",
    "for item in cor:\n",
    "    if not item == 0:\n",
    "        cor_xy.append(item)\n",
    "cor_xy = np.array(cor_xy)"
   ]
  },
  {
   "cell_type": "code",
   "execution_count": 5,
   "id": "763b7aa3-a62a-430f-8370-b11d739e0f15",
   "metadata": {},
   "outputs": [
    {
     "data": {
      "text/plain": [
       "array([ 6, 11, 18, 30, 18,  5,  3])"
      ]
     },
     "execution_count": 5,
     "metadata": {},
     "output_type": "execute_result"
    }
   ],
   "source": [
    "cor_xy"
   ]
  },
  {
   "cell_type": "code",
   "execution_count": 6,
   "id": "9e9738af-9a66-468d-9a44-86efdcb51ab3",
   "metadata": {},
   "outputs": [],
   "source": [
    "def correlate(x,y):\n",
    "    cor = []\n",
    "\n",
    "    for l in range(-max(len(x), len(y)), max(len(x), len(y))):\n",
    "        sigma = 0\n",
    "        for n in range(len(x)):\n",
    "            if n - l < len(y) and n - l >= 0:\n",
    "                sigma += x[n] * y[n - l]\n",
    "            else:\n",
    "                sigma += 0\n",
    "        cor.append(sigma)\n",
    "    \n",
    "    cor_xy = []\n",
    "\n",
    "    for item in cor:\n",
    "        if not item == 0:\n",
    "            cor_xy.append(item)\n",
    "    return np.array(cor_xy)"
   ]
  },
  {
   "cell_type": "code",
   "execution_count": 7,
   "id": "164ebcf2-9d62-4626-9a51-c6b7d8031fea",
   "metadata": {},
   "outputs": [
    {
     "data": {
      "text/plain": [
       "array([ 6, 11, 18, 30, 18,  5,  3])"
      ]
     },
     "execution_count": 7,
     "metadata": {},
     "output_type": "execute_result"
    }
   ],
   "source": [
    "correlate(x,y)"
   ]
  },
  {
   "cell_type": "code",
   "execution_count": 8,
   "id": "6de403a5-244b-4e79-ac4e-a409c4860b3d",
   "metadata": {},
   "outputs": [
    {
     "data": {
      "text/plain": [
       "array([ 6, 11, 18, 30, 18,  5,  3])"
      ]
     },
     "execution_count": 8,
     "metadata": {},
     "output_type": "execute_result"
    }
   ],
   "source": [
    "sig.correlate(x, y)"
   ]
  },
  {
   "cell_type": "code",
   "execution_count": null,
   "id": "a3a9dbc0-fff2-42e1-8890-fa78250b94ec",
   "metadata": {},
   "outputs": [],
   "source": []
  }
 ],
 "metadata": {
  "kernelspec": {
   "display_name": "Python 3",
   "language": "python",
   "name": "python3"
  },
  "language_info": {
   "codemirror_mode": {
    "name": "ipython",
    "version": 3
   },
   "file_extension": ".py",
   "mimetype": "text/x-python",
   "name": "python",
   "nbconvert_exporter": "python",
   "pygments_lexer": "ipython3",
   "version": "3.8.5"
  }
 },
 "nbformat": 4,
 "nbformat_minor": 5
}
