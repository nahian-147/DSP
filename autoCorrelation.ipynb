{
 "cells": [
  {
   "cell_type": "code",
   "execution_count": 1,
   "id": "8ae61e54-1fae-4e46-b634-974afd0c437b",
   "metadata": {},
   "outputs": [],
   "source": [
    "from scipy import signal as sig\n",
    "import numpy as np"
   ]
  },
  {
   "cell_type": "code",
   "execution_count": 2,
   "id": "74aef43b-077b-4c14-84c0-a762edeb172c",
   "metadata": {},
   "outputs": [],
   "source": [
    "x = [1, 1, 2, 3]\n",
    "y = x"
   ]
  },
  {
   "cell_type": "code",
   "execution_count": 3,
   "id": "8a99c2c8-08ca-40a9-91ee-79ca772b3cbd",
   "metadata": {},
   "outputs": [],
   "source": [
    "cor = []\n",
    "\n",
    "for l in range(-max(len(x), len(y)), max(len(x), len(y))):\n",
    "    sigma = 0\n",
    "    for n in range(len(x)):\n",
    "        if n - l < len(y) and n - l >= 0:\n",
    "            sigma += x[n] * y[n - l]\n",
    "        else:\n",
    "            sigma += 0\n",
    "    cor.append(sigma)"
   ]
  },
  {
   "cell_type": "code",
   "execution_count": 4,
   "id": "e530ba62-42f4-4158-927a-c46f82931aa6",
   "metadata": {},
   "outputs": [],
   "source": [
    "cor_xy = []\n",
    "\n",
    "for item in cor:\n",
    "    if not item == 0:\n",
    "        cor_xy.append(item)\n"
   ]
  },
  {
   "cell_type": "code",
   "execution_count": 5,
   "id": "c250b746-46be-40da-a5c2-c70ca223d34d",
   "metadata": {},
   "outputs": [
    {
     "data": {
      "text/plain": [
       "array([ 3,  5,  9, 15,  9,  5,  3])"
      ]
     },
     "execution_count": 5,
     "metadata": {},
     "output_type": "execute_result"
    }
   ],
   "source": [
    "cor_xy = np.array(cor_xy)\n",
    "cor_xy"
   ]
  },
  {
   "cell_type": "code",
   "execution_count": 6,
   "id": "ea54f89e-9ddd-4945-9e6a-3bc1a8925770",
   "metadata": {},
   "outputs": [],
   "source": [
    "def auto_correlate(x):\n",
    "    y = x\n",
    "    cor = []\n",
    "\n",
    "    for l in range(-max(len(x), len(y)), max(len(x), len(y))):\n",
    "        sigma = 0\n",
    "        for n in range(len(x)):\n",
    "            if n - l < len(y) and n - l >= 0:\n",
    "                sigma += x[n] * y[n - l]\n",
    "            else:\n",
    "                sigma += 0\n",
    "        cor.append(sigma)\n",
    "    \n",
    "    cor_xy = []\n",
    "\n",
    "    for item in cor:\n",
    "        if not item == 0:\n",
    "            cor_xy.append(item)\n",
    "    return np.array(cor_xy)"
   ]
  },
  {
   "cell_type": "code",
   "execution_count": 7,
   "id": "6b2df952-6a2d-422c-8ddb-47127e78c4da",
   "metadata": {},
   "outputs": [
    {
     "data": {
      "text/plain": [
       "array([ 3,  5,  9, 15,  9,  5,  3])"
      ]
     },
     "execution_count": 7,
     "metadata": {},
     "output_type": "execute_result"
    }
   ],
   "source": [
    "auto_correlate(x)"
   ]
  },
  {
   "cell_type": "code",
   "execution_count": 8,
   "id": "7a890654-6626-4ccf-b122-38889f3ed0f9",
   "metadata": {},
   "outputs": [
    {
     "data": {
      "text/plain": [
       "array([ 3,  5,  9, 15,  9,  5,  3])"
      ]
     },
     "execution_count": 8,
     "metadata": {},
     "output_type": "execute_result"
    }
   ],
   "source": [
    "sig.correlate(x, x)"
   ]
  },
  {
   "cell_type": "code",
   "execution_count": null,
   "id": "78a99a2e-ee0c-4eff-868c-8b978e88c5b2",
   "metadata": {},
   "outputs": [],
   "source": []
  }
 ],
 "metadata": {
  "kernelspec": {
   "display_name": "Python 3",
   "language": "python",
   "name": "python3"
  },
  "language_info": {
   "codemirror_mode": {
    "name": "ipython",
    "version": 3
   },
   "file_extension": ".py",
   "mimetype": "text/x-python",
   "name": "python",
   "nbconvert_exporter": "python",
   "pygments_lexer": "ipython3",
   "version": "3.8.5"
  }
 },
 "nbformat": 4,
 "nbformat_minor": 5
}
