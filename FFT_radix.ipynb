{
 "cells": [
  {
   "cell_type": "code",
   "execution_count": 1,
   "id": "305b6c0b-875f-489c-ba99-9019acab58dd",
   "metadata": {},
   "outputs": [],
   "source": [
    "import numpy as np\n",
    "from numpy import pi, exp"
   ]
  },
  {
   "cell_type": "code",
   "execution_count": 2,
   "id": "977bc9c9-7814-47cf-ba79-22964316ce78",
   "metadata": {},
   "outputs": [],
   "source": [
    "def radix2_fft(f):\n",
    "    N = len(f)\n",
    "    if N<=1:\n",
    "        return f\n",
    "    \n",
    "    even = radix2_fft(f[0::2])\n",
    "    odd = radix2_fft(f[1::2])\n",
    "    \n",
    "    fft = np.zeros(N).astype(np.complex64)\n",
    "    \n",
    "    for i in range(N//2):\n",
    "        fft[i] = even[i] + exp((-2j*pi*i)/N) * odd[i]\n",
    "        fft[i + N//2] = even[i] - exp((-2j*pi*i)/N) * odd[i]\n",
    "        \n",
    "    return fft"
   ]
  },
  {
   "cell_type": "code",
   "execution_count": 3,
   "id": "dda79d0a-fb8f-4b98-82b1-ef54c25f4cca",
   "metadata": {},
   "outputs": [
    {
     "name": "stdout",
     "output_type": "stream",
     "text": [
      "[10.+0.j -2.+2.j -2.+0.j -2.-2.j]\n"
     ]
    }
   ],
   "source": [
    "x = [1,2,3,4]\n",
    "fft = radix2_fft(x)\n",
    "print(fft)"
   ]
  },
  {
   "cell_type": "code",
   "execution_count": null,
   "id": "b88d1a81-4abe-4eff-9db9-ad327dd0dbde",
   "metadata": {},
   "outputs": [],
   "source": []
  }
 ],
 "metadata": {
  "kernelspec": {
   "display_name": "Python 3",
   "language": "python",
   "name": "python3"
  },
  "language_info": {
   "codemirror_mode": {
    "name": "ipython",
    "version": 3
   },
   "file_extension": ".py",
   "mimetype": "text/x-python",
   "name": "python",
   "nbconvert_exporter": "python",
   "pygments_lexer": "ipython3",
   "version": "3.8.5"
  }
 },
 "nbformat": 4,
 "nbformat_minor": 5
}
