{
 "cells": [
  {
   "cell_type": "code",
   "execution_count": 1,
   "id": "b12755f3-0fbe-4e77-bc57-67ad35026fb7",
   "metadata": {},
   "outputs": [],
   "source": [
    "import numpy as np"
   ]
  },
  {
   "cell_type": "code",
   "execution_count": 2,
   "id": "c8ea7c4c-0dfe-44cc-a87c-033ec1fe3f62",
   "metadata": {},
   "outputs": [],
   "source": [
    "def dft(Signal):\n",
    "    N = len(Signal)\n",
    "    X = []\n",
    "    for k in range(N):\n",
    "        sum_r = 0\n",
    "        sum_i = 0\n",
    "        for n in range(N):\n",
    "            ang = -2*np.pi*k*n/N\n",
    "            sum_r += Signal[n]*np.cos(ang)\n",
    "            sum_i += Signal[n]*np.sin(ang)\n",
    "        X.append(sum_r+1j*sum_i)\n",
    "    return np.array(X)"
   ]
  },
  {
   "cell_type": "code",
   "execution_count": 3,
   "id": "3a9f23f9-0cb9-48c7-8e19-0cc6650006c0",
   "metadata": {},
   "outputs": [
    {
     "name": "stdout",
     "output_type": "stream",
     "text": [
      "DFT:  [ 6.+0.00000000e+00j -2.+2.00000000e+00j -2.-7.34788079e-16j\n",
      " -2.-2.00000000e+00j]\n"
     ]
    }
   ],
   "source": [
    "x = np.array([0,1,2,3])\n",
    "X = dft(x)\n",
    "print('DFT: ',X)"
   ]
  },
  {
   "cell_type": "code",
   "execution_count": 4,
   "id": "09120d17-7cd5-4e26-a87c-fffcf2807675",
   "metadata": {},
   "outputs": [],
   "source": [
    "def idft(Signal):\n",
    "    N = len(Signal)\n",
    "    X = []\n",
    "    for k in range(N):\n",
    "        sumc = 0\n",
    "        for n in range(N):\n",
    "            ang = 2*np.pi*k*n/N\n",
    "            sumc += Signal[n]*(np.cos(ang) + 1j*np.sin(ang))/N\n",
    "        X.append(sumc)\n",
    "    return X"
   ]
  },
  {
   "cell_type": "code",
   "execution_count": 5,
   "id": "8ca6e88e-6e03-4fe4-a022-52f2e58ee31a",
   "metadata": {},
   "outputs": [
    {
     "name": "stdout",
     "output_type": "stream",
     "text": [
      "IDFT:  [0.-0.j 1.-0.j 2.-0.j 3.+0.j]\n"
     ]
    }
   ],
   "source": [
    "ans = idft(X)\n",
    "print('IDFT: ',np.round(ans))"
   ]
  },
  {
   "cell_type": "code",
   "execution_count": 6,
   "id": "fd8ff68e-f667-4e63-85b1-82c41f82e846",
   "metadata": {},
   "outputs": [],
   "source": [
    "def fir(x,h):\n",
    "    dft_x = dft(x)\n",
    "    dft_h = idft(h)\n",
    "    mul = dft_x * dft_h\n",
    "    \n",
    "    in_dft = idft(mul)\n",
    "    return np.round(in_dft)"
   ]
  },
  {
   "cell_type": "code",
   "execution_count": 7,
   "id": "795b0797-4676-4dfb-b6f4-1bb41471016b",
   "metadata": {},
   "outputs": [
    {
     "name": "stdout",
     "output_type": "stream",
     "text": [
      "FIR:  [4.+0.j 3.+0.j 4.-0.j 4.-0.j]\n"
     ]
    }
   ],
   "source": [
    "x = np.array([1,2,2,1])\n",
    "h = np.array([1,2,3,4])\n",
    "\n",
    "print('FIR: ',fir(x,h))"
   ]
  },
  {
   "cell_type": "code",
   "execution_count": null,
   "id": "fd828dd4-361f-43c1-bc59-f0832ebc9194",
   "metadata": {},
   "outputs": [],
   "source": []
  }
 ],
 "metadata": {
  "kernelspec": {
   "display_name": "Python 3",
   "language": "python",
   "name": "python3"
  },
  "language_info": {
   "codemirror_mode": {
    "name": "ipython",
    "version": 3
   },
   "file_extension": ".py",
   "mimetype": "text/x-python",
   "name": "python",
   "nbconvert_exporter": "python",
   "pygments_lexer": "ipython3",
   "version": "3.8.5"
  }
 },
 "nbformat": 4,
 "nbformat_minor": 5
}
