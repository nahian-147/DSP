{
 "cells": [
  {
   "cell_type": "code",
   "execution_count": 4,
   "id": "1d1b9496-a63f-48ff-8383-aca1b559f705",
   "metadata": {},
   "outputs": [],
   "source": [
    "from math import pi,e\n",
    "from scipy.fft import fft"
   ]
  },
  {
   "cell_type": "code",
   "execution_count": 3,
   "id": "f690e5a1-b013-4ed8-b80b-f3761d0c3903",
   "metadata": {},
   "outputs": [
    {
     "name": "stdout",
     "output_type": "stream",
     "text": [
      "[(10+0j), (-2.0000000000000004+1.9999999999999996j), (-2-7.347880794884119e-16j), (-1.9999999999999991-2.0000000000000004j)]\n"
     ]
    }
   ],
   "source": [
    "signal = [1, 2, 3, 4]\n",
    "signal_len = len(signal)\n",
    "L = 1\n",
    "M = signal_len\n",
    "root = math.floor(math.sqrt(signal_len))\n",
    "for i in range(root, 0, -1):\n",
    "    if signal_len % i == 0:\n",
    "        L = i\n",
    "        M = int(signal_len / i)\n",
    "        break\n",
    "\n",
    "input_2d = []\n",
    "output_2d = []\n",
    "for i in range(L):\n",
    "    input_2d.append(signal[i::L])\n",
    "    output_2d.append([0 for _ in range(M)])\n",
    "for p in range(L):\n",
    "    for q in range(M):\n",
    "        pq_result = 0\n",
    "        for l in range(L):\n",
    "            factor_1 = e ** -(2j * pi * l * q / signal_len)\n",
    "            inner_output = 0\n",
    "            for m in range(M):\n",
    "                w_m = e ** -(2j * pi * m*q / M)\n",
    "                inner_output += (input_2d[l][m] * w_m)\n",
    "            factor_2 = e ** -(2j * pi * l * p / L)\n",
    "            pq_result += (factor_1 * inner_output * factor_2)\n",
    "        output_2d[p][q] = pq_result\n",
    "output = []\n",
    "for row in output_2d:\n",
    "    output.extend(row)\n",
    "\n",
    "print(output)"
   ]
  },
  {
   "cell_type": "code",
   "execution_count": 5,
   "id": "f3761d6f-370d-49bb-8c60-2de7f6a7f91f",
   "metadata": {},
   "outputs": [
    {
     "data": {
      "text/plain": [
       "array([10.-0.j, -2.+2.j, -2.-0.j, -2.-2.j])"
      ]
     },
     "execution_count": 5,
     "metadata": {},
     "output_type": "execute_result"
    }
   ],
   "source": [
    "fft(signal)"
   ]
  },
  {
   "cell_type": "code",
   "execution_count": null,
   "id": "63edea56-e628-4e6d-8aea-ef8fb40d34a9",
   "metadata": {},
   "outputs": [],
   "source": []
  }
 ],
 "metadata": {
  "kernelspec": {
   "display_name": "Python 3",
   "language": "python",
   "name": "python3"
  },
  "language_info": {
   "codemirror_mode": {
    "name": "ipython",
    "version": 3
   },
   "file_extension": ".py",
   "mimetype": "text/x-python",
   "name": "python",
   "nbconvert_exporter": "python",
   "pygments_lexer": "ipython3",
   "version": "3.8.5"
  }
 },
 "nbformat": 4,
 "nbformat_minor": 5
}
